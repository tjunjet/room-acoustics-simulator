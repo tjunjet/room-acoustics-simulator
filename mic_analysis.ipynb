{
 "cells": [
  {
   "cell_type": "markdown",
   "metadata": {},
   "source": [
    "# This file analyzes the output waveform from each microphone"
   ]
  },
  {
   "cell_type": "code",
   "execution_count": 1,
   "metadata": {},
   "outputs": [],
   "source": [
    "import numpy as np\n",
    "import matplotlib.pyplot as plt\n",
    "import pyroomacoustics as pra"
   ]
  },
  {
   "cell_type": "code",
   "execution_count": 2,
   "metadata": {},
   "outputs": [
    {
     "name": "stdout",
     "output_type": "stream",
     "text": [
      "44100\n",
      "[[ 0  0]\n",
      " [ 0  0]\n",
      " [ 0  0]\n",
      " ...\n",
      " [29 29]\n",
      " [30 30]\n",
      " [30 30]]\n"
     ]
    }
   ],
   "source": [
    "from scipy.io import wavfile\n",
    "fs, audio = wavfile.read('generated_mics/mic_arr.wav')\n",
    "\n",
    "print(fs)\n",
    "print(audio)"
   ]
  }
 ],
 "metadata": {
  "kernelspec": {
   "display_name": "Python 3.11.7 ('arenaEnv')",
   "language": "python",
   "name": "python3"
  },
  "language_info": {
   "codemirror_mode": {
    "name": "ipython",
    "version": 3
   },
   "file_extension": ".py",
   "mimetype": "text/x-python",
   "name": "python",
   "nbconvert_exporter": "python",
   "pygments_lexer": "ipython3",
   "version": "3.11.7"
  },
  "orig_nbformat": 4,
  "vscode": {
   "interpreter": {
    "hash": "75234d7791d6348670231b39a4a99add5994d1efc0a274dd117b51e2e2d27ac7"
   }
  }
 },
 "nbformat": 4,
 "nbformat_minor": 2
}
